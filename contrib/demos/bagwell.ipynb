{
 "metadata": {
  "name": ""
 },
 "nbformat": 3,
 "nbformat_minor": 0,
 "worksheets": [
  {
   "cells": [
    {
     "cell_type": "code",
     "collapsed": false,
     "input": [
      "import gambit"
     ],
     "language": "python",
     "metadata": {},
     "outputs": []
    },
    {
     "cell_type": "code",
     "collapsed": false,
     "input": [
      "g = gambit.Game.read_game(\"bagwell.efg\")"
     ],
     "language": "python",
     "metadata": {},
     "outputs": []
    },
    {
     "cell_type": "code",
     "collapsed": false,
     "input": [
      "g"
     ],
     "language": "python",
     "metadata": {},
     "outputs": []
    },
    {
     "cell_type": "code",
     "collapsed": false,
     "input": [
      "eqa = gambit.nash.lcp_solve(g)"
     ],
     "language": "python",
     "metadata": {},
     "outputs": []
    },
    {
     "cell_type": "code",
     "collapsed": false,
     "input": [
      "len(eqa)"
     ],
     "language": "python",
     "metadata": {},
     "outputs": []
    },
    {
     "cell_type": "code",
     "collapsed": false,
     "input": [
      "eqa[0]"
     ],
     "language": "python",
     "metadata": {},
     "outputs": []
    },
    {
     "cell_type": "code",
     "collapsed": false,
     "input": [
      "eqa[1]"
     ],
     "language": "python",
     "metadata": {},
     "outputs": []
    },
    {
     "cell_type": "code",
     "collapsed": false,
     "input": [
      "eqa[2]"
     ],
     "language": "python",
     "metadata": {},
     "outputs": []
    },
    {
     "cell_type": "code",
     "collapsed": false,
     "input": [
      "probs = [ gambit.Rational(i, 100) for i in xrange(99, 0, -1) ]\n",
      "eqa = [ ]\n",
      "for prob in probs:\n",
      "    g.players.chance.infosets[0].actions[0].prob = prob\n",
      "    g.players.chance.infosets[0].actions[1].prob = 1-prob\n",
      "    g.players.chance.infosets[1].actions[0].prob = 1-prob\n",
      "    g.players.chance.infosets[1].actions[1].prob = prob\n",
      "    eqa.append(gambit.nash.lcp_solve(g))\n",
      "    "
     ],
     "language": "python",
     "metadata": {},
     "outputs": []
    },
    {
     "cell_type": "code",
     "collapsed": false,
     "input": [
      "import pylab"
     ],
     "language": "python",
     "metadata": {},
     "outputs": []
    },
    {
     "cell_type": "code",
     "collapsed": false,
     "input": [
      "for (prob, solns) in zip(probs, eqa):\n",
      "    pylab.plot([ prob for eqm in solns ], [ eqm.as_strategy()[g.players[0].strategies[0]] for eqm in solns ], 'ro')\n",
      "pylab.xlabel(\"Probability signal is accurate\")\n",
      "pylab.ylabel(\"Equilibrium probability of choosing $S$\")"
     ],
     "language": "python",
     "metadata": {},
     "outputs": []
    },
    {
     "cell_type": "code",
     "collapsed": false,
     "input": [],
     "language": "python",
     "metadata": {},
     "outputs": []
    }
   ],
   "metadata": {}
  }
 ]
}